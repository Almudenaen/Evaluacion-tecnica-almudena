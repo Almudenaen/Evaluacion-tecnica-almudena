{
 "cells": [
  {
   "cell_type": "markdown",
   "id": "d6bb2a02",
   "metadata": {},
   "source": [
    " **Ejercicio 1.** `agregar_producto(nombre, precio, cantidad)`: Esta función agrega un \n",
    "producto al inventario o actualiza su cantidad si ya existe. Debe recibir el \n",
    "nombre, precio y cantidad del producto como parámetros.  \n",
    "     - Itera a través del inventario y compara los nombres de los productos \n",
    "con el nombre proporcionado. \n",
    "     - Si el producto ya existe, actualiza la cantidad. \n",
    "     - Si no existe, agrega un nuevo producto al inventario."
   ]
  },
  {
   "cell_type": "markdown",
   "id": "eba76404",
   "metadata": {},
   "source": [
    "`inventario` (lista de diccionarios): Una estructura para almacenar los \n",
    "productos en el inventario. Cada producto debe ser representado como un \n",
    "diccionario con las siguientes claves: `'nombre'`, `'precio'`, y \n",
    "`'cantidad'`. Al principio deberá ser una lista vacía. \n"
   ]
  },
  {
   "cell_type": "markdown",
   "id": "bd84894e",
   "metadata": {},
   "source": [
    "---\n"
   ]
  },
  {
   "cell_type": "code",
   "execution_count": 36,
   "id": "50a8b878",
   "metadata": {},
   "outputs": [],
   "source": [
    "inventario=[]                                                                           #1\n",
    "def agregar_producto(nombre, precio, cantidad):                                         #2\n",
    "    for producto in inventario:                                                         #3\n",
    "        if producto['nombre'] == nombre:                                                #4\n",
    "            producto['cantidad'] += cantidad                                            #5\n",
    "            return                                                                      #6          \n",
    "    inventario.append({'nombre': nombre, 'precio': precio, 'cantidad': cantidad})       #7"
   ]
  },
  {
   "cell_type": "code",
   "execution_count": 98,
   "id": "255a3796",
   "metadata": {},
   "outputs": [
    {
     "name": "stdout",
     "output_type": "stream",
     "text": [
      "[{'nombre': 'manzana', 'precio': 4, 'cantidad': 10}, {'nombre': 'fresa', 'precio': 3, 'cantidad': 40}]\n"
     ]
    }
   ],
   "source": [
    "agregar_producto('fresa', 2, 10)                                                      #8\n",
    "print(inventario)                                                                       #9     "
   ]
  },
  {
   "cell_type": "markdown",
   "id": "57140820",
   "metadata": {},
   "source": [
    "___"
   ]
  },
  {
   "cell_type": "markdown",
   "id": "a2e0de6c",
   "metadata": {},
   "source": [
    "- Paso 1: guardamos una lista vacia (inventario)"
   ]
  },
  {
   "cell_type": "markdown",
   "id": "f22d1d1f",
   "metadata": {},
   "source": [
    "- Paso 2: definimos la **funcion** (agregar_producto) con los **parametros** (nombre, precio y cantidad)"
   ]
  },
  {
   "cell_type": "markdown",
   "id": "8c59f3a8",
   "metadata": {},
   "source": [
    "- Paso 3: aplicamos el **bucle for**, se busca la **variable sin valor predefinido** (producto) en la **lista** (inventario). (producto) equivale a cualquiera de los diccionarios dentro de esa lista. "
   ]
  },
  {
   "cell_type": "markdown",
   "id": "3ac2c87b",
   "metadata": {},
   "source": [
    "- Paso 4: introducimos el **bucle if**, se establece la condicion de que dentro del **diccionario** (producto) y accediendo a la **clave** (nombre) el valor de esa clave sea igual al **argumento** que se establezca para el **parametro** (nombre)."
   ]
  },
  {
   "cell_type": "markdown",
   "id": "b76a2bce",
   "metadata": {},
   "source": [
    "- Paso 5: cuando se cumpla la condición anterior establecemos que se añada el valor del **parametro** (cantidad) a la **clave** (cantidad) dentro de ese diccionario."
   ]
  },
  {
   "cell_type": "markdown",
   "id": "f2e028a8",
   "metadata": {},
   "source": [
    "- Paso 6: incluimos la palabra clave **return** para que nos devuelva el valor resultante de haber ejecutado la **funcion**. "
   ]
  },
  {
   "cell_type": "markdown",
   "id": "b3f49821",
   "metadata": {},
   "source": [
    "- Paso 7: en caso de que un diccionario (producto) no este en la lista (inventario) se añade a la lista (inventario) usando el **metodo** .append() que **tiene como parametro un diccionario**."
   ]
  },
  {
   "cell_type": "markdown",
   "id": "97d2fc44",
   "metadata": {},
   "source": [
    "- Paso 8: llamamos a la funcion y establecemos un argumento para cada parametro (se corresponden con las 3 claves del diccionario que nos piden)\n"
   ]
  },
  {
   "cell_type": "markdown",
   "id": "96cef184",
   "metadata": {},
   "source": [
    "- Paso 9: imprimimos la lista (inventario)"
   ]
  },
  {
   "cell_type": "markdown",
   "id": "3802f743",
   "metadata": {},
   "source": [
    " **Ejercicio 2.** `ver_inventario()`: Muestra el inventario de productos con sus detalles. \n",
    "     - Utiliza un bucle `for` para recorrer el inventario. \n",
    "     - Imprime los detalles (nombre, precio, cantidad) de cada producto. \n",
    "     - Debería verse: \n",
    "         ```python \n",
    "         Nombre: Camisa, Precio: $20, Cantidad: 50 \n",
    "         Nombre: Pantalón, Precio: $30, Cantidad: 30 \n",
    "         Nombre: Zapatos, Precio: $50, Cantidad: 40 \n",
    "         Nombre: Camisa, Precio: $20, Cantidad: 50 \n",
    "         ```"
   ]
  },
  {
   "cell_type": "markdown",
   "id": "bce2543c",
   "metadata": {},
   "source": [
    "___"
   ]
  },
  {
   "cell_type": "code",
   "execution_count": 184,
   "id": "13567fa7",
   "metadata": {},
   "outputs": [],
   "source": [
    "def ver_inventario():                       #1\n",
    "    for producto in inventario:             #2\n",
    "        print(f\"Nombre: {producto['nombre']}, Precio: {producto['precio']}€, Cantidad: {producto['cantidad']}\")   #3"
   ]
  },
  {
   "cell_type": "code",
   "execution_count": 185,
   "id": "ef9d8071",
   "metadata": {},
   "outputs": [
    {
     "name": "stdout",
     "output_type": "stream",
     "text": [
      "Nombre: manzana, Precio: 4€, Cantidad: 5\n",
      "Nombre: fresa, Precio: 3€, Cantidad: 28\n"
     ]
    }
   ],
   "source": [
    "ver_inventario()           #4        "
   ]
  },
  {
   "cell_type": "markdown",
   "id": "bac5158f",
   "metadata": {},
   "source": [
    "___"
   ]
  },
  {
   "cell_type": "markdown",
   "id": "7a54450c",
   "metadata": {},
   "source": [
    "- Paso 1: definimos la **funcion** (ver_inventario) **sin parametros**"
   ]
  },
  {
   "cell_type": "markdown",
   "id": "982e9eb8",
   "metadata": {},
   "source": [
    "- Paso 2: aplicamos el **bucle for**, se busca la **variable sin valor predefinido** (producto) en la **lista** (inventario). (producto) equivale a cualquiera de los diccionarios dentro de esa lista. "
   ]
  },
  {
   "cell_type": "markdown",
   "id": "7a2837af",
   "metadata": {},
   "source": [
    "- Paso 3: imprimimos una cadena (**string**) para cada diccionario (producto). **Introducimos en texto los nombres de las claves** y usamos la f y las {} para **insertar cada valor asociado a cada clave de cada diccionario**"
   ]
  },
  {
   "cell_type": "markdown",
   "id": "ab47fd5c",
   "metadata": {},
   "source": [
    "- Paso 4: llamamos a la funcion y la ejecutamos"
   ]
  },
  {
   "cell_type": "markdown",
   "id": "de23c528",
   "metadata": {},
   "source": [
    "**Ejercicio 3.** `buscar_producto(nombre)`: Busca un producto en el inventario por nombre \n",
    "y muestra sus detalles si se encuentra. Debe recibir el nombre del producto \n",
    "como parámetro. \n",
    "     - Utiliza un bucle `for` para recorrer el inventario. \n",
    "     - Compara los nombres de los productos con el nombre proporcionado. \n",
    "     - Si se encuentra el producto, imprime sus detalles. \n",
    "     - Debe mostrar: \n",
    "         ```python \n",
    "         Nombre: Camisa, Precio: $20, Cantidad: 40 \n",
    "         ```"
   ]
  },
  {
   "cell_type": "markdown",
   "id": "201b657f",
   "metadata": {},
   "source": [
    "___"
   ]
  },
  {
   "cell_type": "code",
   "execution_count": 182,
   "id": "53c1b304",
   "metadata": {},
   "outputs": [],
   "source": [
    "def buscar_producto(nombre):                            #1\n",
    "    for producto in inventario:                         #2    \n",
    "        if producto['nombre'] == nombre.lower().strip():                #3\n",
    "            print(f\"Nombre: {producto['nombre']}, Precio: {producto['precio']}€, Cantidad: {producto['cantidad']}\") #4\n",
    "            return                                      #5\n",
    "    print(\"Producto no encontrado.\")                    #6"
   ]
  },
  {
   "cell_type": "code",
   "execution_count": 183,
   "id": "d7a14c9b",
   "metadata": {},
   "outputs": [
    {
     "name": "stdout",
     "output_type": "stream",
     "text": [
      "Nombre: fresa, Precio: 3€, Cantidad: 28\n"
     ]
    }
   ],
   "source": [
    "buscar_producto('Fresa ')                                 #7              "
   ]
  },
  {
   "cell_type": "markdown",
   "id": "bc48995e",
   "metadata": {},
   "source": [
    "___"
   ]
  },
  {
   "cell_type": "markdown",
   "id": "325dc5c2",
   "metadata": {},
   "source": [
    "- Paso 1: definimos la **funcion** (buscar_producto) con el **parametro** (nombre)"
   ]
  },
  {
   "cell_type": "markdown",
   "id": "d4c3f848",
   "metadata": {},
   "source": [
    "- Paso 2: aplicamos el **bucle for**, se busca la **variable sin valor predefinido** (producto) en la **lista** (inventario). (producto) equivale a cualquiera de los diccionarios dentro de esa lista. "
   ]
  },
  {
   "cell_type": "markdown",
   "id": "8f8b6948",
   "metadata": {},
   "source": [
    "- Paso 3: introducimos el **bucle if**, se establece la condicion de que dentro del **diccionario** (producto) y accediendo a la **clave** (nombre) el valor de esa clave sea igual al **argumento** que se establezca para el **parametro** (nombre). Añadimos los metodos **.lower()** y **.strip()** a la variable (nombre) para asegurar la coincidencia del argumento introducido con la clave (nombre) del correspondiente diccionario. "
   ]
  },
  {
   "cell_type": "markdown",
   "id": "61e2abfb",
   "metadata": {},
   "source": [
    "- Paso 4: cuando se cumpla la condición anterior establecemos que se imprima una cadena (**string**) para cada diccionario (producto). **Introducimos en texto los nombres de las claves** y usamos la f y las {} para **insertar cada valor asociado a cada clave de cada diccionario**"
   ]
  },
  {
   "cell_type": "markdown",
   "id": "22c56e06",
   "metadata": {},
   "source": [
    "- Paso 5: incluimos la palabra clave **return** para que nos devuelva el valor resultante de haber ejecutado la **funcion**. "
   ]
  },
  {
   "cell_type": "markdown",
   "id": "bf479fc8",
   "metadata": {},
   "source": [
    "- Paso 6: incluimos una linea **fuera del bucle for** para que nos **imprima la frase** \"producto no encotrado\" cuando (producto) no aparezca en (inventario)"
   ]
  },
  {
   "cell_type": "markdown",
   "id": "60cdb5ee",
   "metadata": {},
   "source": [
    "- Paso 7: **llamamos a la funcion** y establecemos un **argumento** para el parametro y la ejecutamos"
   ]
  },
  {
   "cell_type": "markdown",
   "id": "1a2ecd5f",
   "metadata": {},
   "source": [
    "**Ejercicio 4.** `actualizar_stock(nombre, cantidad)`: Actualiza el stock de un producto \n",
    "en el inventario. Debe recibir el nombre del producto y la cantidad a \n",
    "agregar o quitar como parámetros. \n",
    "    - Utiliza un bucle `for` para recorrer el inventario.\n",
    "    - Busca el producto por nombre.\n",
    "    - Actualiza la cantidad según la entrada del usuario. \n",
    "    - Si el producto no esta en el inventario muestra un mensaje \n",
    "indicándolo. "
   ]
  },
  {
   "cell_type": "markdown",
   "id": "d231c689",
   "metadata": {},
   "source": [
    "---"
   ]
  },
  {
   "cell_type": "code",
   "execution_count": 32,
   "id": "ca18af94",
   "metadata": {},
   "outputs": [],
   "source": [
    "def actualizar_stock(nombre, cantidad):                             #1      \n",
    "    for producto in inventario:                                     #2   \n",
    "        if producto['nombre'] == nombre.lower().strip():                            #3\n",
    "            producto['cantidad'] += cantidad                        #4\n",
    "            return                                                  #5\n",
    "    print(\"Producto no encontrado en el inventario.\")               #6"
   ]
  },
  {
   "cell_type": "code",
   "execution_count": 43,
   "id": "93311789",
   "metadata": {},
   "outputs": [
    {
     "name": "stdout",
     "output_type": "stream",
     "text": [
      "[{'nombre': 'manzana', 'precio': 4, 'cantidad': 10}, {'nombre': 'fresa', 'precio': 3, 'cantidad': 20}]\n"
     ]
    }
   ],
   "source": [
    "actualizar_stock(' Fresa', 5)                                        #7\n",
    "print(inventario)                                                   #8"
   ]
  },
  {
   "cell_type": "markdown",
   "id": "e6d44da3",
   "metadata": {},
   "source": [
    "---"
   ]
  },
  {
   "cell_type": "markdown",
   "id": "bf8dc9bf",
   "metadata": {},
   "source": [
    "- Paso 1: definimos la **funcion** (actualizar_stock) con los **parametros** (nombre, cantidad)"
   ]
  },
  {
   "cell_type": "markdown",
   "id": "9caa0295",
   "metadata": {},
   "source": [
    "- Paso 2: aplicamos el **bucle for**, se busca la **variable sin valor predefinido** (producto) en la **lista** (inventario). (producto) equivale a cualquiera de los diccionarios dentro de esa lista. "
   ]
  },
  {
   "cell_type": "markdown",
   "id": "1e3aa0a8",
   "metadata": {},
   "source": [
    "- Paso 3: introducimos el **bucle if**, se establece la condicion de que dentro del **diccionario** (producto) y accediendo a la **clave** (nombre) el valor de esa clave sea igual al **argumento** que se establezca para el **parametro** (nombre). Añadimos los metodos **.lower()** y **.strip()** a la variable (nombre) para asegurar la coincidencia del argumento introducido con la clave (nombre) del correspondiente diccionario. "
   ]
  },
  {
   "cell_type": "markdown",
   "id": "e8a200f0",
   "metadata": {},
   "source": [
    "- Paso 4: cuando se cumpla la condición anterior establecemos que se añada el valor del **parametro** (cantidad) a la **clave** (cantidad) dentro de ese diccionario."
   ]
  },
  {
   "cell_type": "markdown",
   "id": "00493c4b",
   "metadata": {},
   "source": [
    "- Paso 5: incluimos la palabra clave **return** para que nos devuelva el valor resultante de haber ejecutado la **funcion**. "
   ]
  },
  {
   "cell_type": "markdown",
   "id": "f90a8a1e",
   "metadata": {},
   "source": [
    "- Paso 6: incluimos una linea **fuera del bucle for** para que nos **imprima la frase** \"producto no encotrado en el inventario\" cuando (producto) no aparezca en (inventario)"
   ]
  },
  {
   "cell_type": "markdown",
   "id": "58e585ba",
   "metadata": {},
   "source": [
    "- Paso 7: llamamos a la funcion y establecemos un argumento para cada parametro\n"
   ]
  },
  {
   "cell_type": "markdown",
   "id": "8cb98dbd",
   "metadata": {},
   "source": [
    "- Paso 8: imprimimos la lista (inventario)"
   ]
  },
  {
   "cell_type": "markdown",
   "id": "c4eb0645",
   "metadata": {},
   "source": [
    "**Ejercicio 5.** `eliminar_producto(nombre)`: Elimina un producto del inventario por \n",
    "nombre. Debe recibir el nombre del producto como parámetro. \n",
    "     - Utiliza un bucle `for` para recorrer el inventario. \n",
    "     - Busca el producto por nombre. \n",
    "     - Elimina el producto del inventario si existe. \n",
    "     - Si el producto no esta en el inventario muestra un mensaje \n",
    "indicándolo. "
   ]
  },
  {
   "cell_type": "markdown",
   "id": "ccbc9cc7",
   "metadata": {},
   "source": [
    "---"
   ]
  },
  {
   "cell_type": "code",
   "execution_count": 34,
   "id": "c8a8fac3",
   "metadata": {},
   "outputs": [],
   "source": [
    "def eliminar_producto(nombre):                                      #1\n",
    "    for producto in inventario:                                     #2\n",
    "        if producto['nombre'] == nombre:                            #3\n",
    "            inventario.remove(producto)                             #4\n",
    "            return                                                  #5\n",
    "    print(\"Producto no encontrado en el inventario.\")               #6  "
   ]
  },
  {
   "cell_type": "code",
   "execution_count": 35,
   "id": "defd328c",
   "metadata": {},
   "outputs": [
    {
     "name": "stdout",
     "output_type": "stream",
     "text": [
      "[{'nombre': 'manzana', 'precio': 4, 'cantidad': 10}]\n"
     ]
    }
   ],
   "source": [
    "eliminar_producto('fresa')                                          #7\n",
    "print(inventario)                                                   #8"
   ]
  },
  {
   "cell_type": "markdown",
   "id": "a82a21c2",
   "metadata": {},
   "source": [
    "---"
   ]
  },
  {
   "cell_type": "markdown",
   "id": "631a6838",
   "metadata": {},
   "source": [
    "- Paso 1: definimos la **funcion** (eliminar_producto) con el **parametro** (nombre)"
   ]
  },
  {
   "cell_type": "markdown",
   "id": "ec58d88d",
   "metadata": {},
   "source": [
    "- Paso 2: aplicamos el **bucle for**, se busca la **variable sin valor predefinido** (producto) en la **lista** (inventario). (producto) equivale a cualquiera de los diccionarios dentro de esa lista. "
   ]
  },
  {
   "cell_type": "markdown",
   "id": "971fbcff",
   "metadata": {},
   "source": [
    "- Paso 3: introducimos el **bucle if**, se establece la condicion de que dentro del **diccionario** (producto) y accediendo a la **clave** (nombre) el valor de esa clave sea igual al **argumento** que se establezca para el **parametro** (nombre)."
   ]
  },
  {
   "cell_type": "markdown",
   "id": "e63d8d53",
   "metadata": {},
   "source": [
    "- Paso 4: cuando se cumpla la condición anterior usamos el metodo **.remove()** indicando entre parentesis el nombre del diccionario correspondiente para **eliminar** ese (producto) de la lista (inventario)"
   ]
  },
  {
   "cell_type": "markdown",
   "id": "13f7f317",
   "metadata": {},
   "source": [
    "- Paso 5: incluimos la palabra clave **return** para que nos devuelva el valor resultante de haber ejecutado la **funcion**. "
   ]
  },
  {
   "cell_type": "markdown",
   "id": "f836ad1a",
   "metadata": {},
   "source": [
    "- Paso 6: incluimos una linea **fuera del bucle for** para que nos **imprima la frase** \"producto no encontrado en el inventario\" cuando (producto) no aparezca en (inventario)"
   ]
  },
  {
   "cell_type": "markdown",
   "id": "3e3757af",
   "metadata": {},
   "source": [
    "- Paso 7: llamamos a la funcion y establecemos un argumento para el parametro\n"
   ]
  },
  {
   "cell_type": "markdown",
   "id": "bfa9b9a0",
   "metadata": {},
   "source": [
    "- Paso 8: imprimimos la lista (inventario)"
   ]
  },
  {
   "cell_type": "markdown",
   "id": "19966d24",
   "metadata": {},
   "source": [
    "**Ejercicio 6.** `calcular_valor_inventario()`: Calcula y muestra el valor total del \n",
    "inventario. \n",
    "     - Utiliza un bucle for para calcular el valor total del inventario. \n",
    "     - Itera a través del inventario y suma el valor de cada producto \n",
    "(precio x cantidad). Es decir, calcula el valor total del inventario. \n",
    "Ejemplo: \n",
    "         ```python \n",
    "         # si tenemos 5 camisas que valen 5 euros  \n",
    "         # y 10 calcetines que valen 1 euro \n",
    "         # este método te tiene que devolver: 35 euros \n",
    "         valor_camisas = 5 * 5 \n",
    "         valor_calcetines = 10 * 1 \n",
    "         valor_camisas + valor_calcetines = 35 \n",
    "         ``` "
   ]
  },
  {
   "cell_type": "markdown",
   "id": "18e6d35e",
   "metadata": {},
   "source": [
    "---"
   ]
  },
  {
   "cell_type": "code",
   "execution_count": null,
   "id": "1562a1f7",
   "metadata": {},
   "outputs": [],
   "source": [
    "lista= []                                                                       #1      \n",
    "def calcular_valor_inventario():                                                #2 \n",
    "    for producto in inventario:                                                 #3\n",
    "        valor_total = producto['precio'] * producto['cantidad']                 #4\n",
    "        lista.append(valor_total)                                               #5       \n",
    "    valor_global=sum(lista)                                                     #6\n",
    "    print(f\"El valor total del inventario es: €{valor_global}\")                 #7"
   ]
  },
  {
   "cell_type": "code",
   "execution_count": null,
   "id": "09dc1d12",
   "metadata": {},
   "outputs": [
    {
     "name": "stdout",
     "output_type": "stream",
     "text": [
      "El valor total del inventario es: €160\n",
      "[{'nombre': 'manzana', 'precio': 4, 'cantidad': 10}, {'nombre': 'fresa', 'precio': 3, 'cantidad': 40}]\n"
     ]
    }
   ],
   "source": [
    "calcular_valor_inventario()                                                     #8                               "
   ]
  },
  {
   "cell_type": "markdown",
   "id": "ba601d74",
   "metadata": {},
   "source": [
    "---"
   ]
  },
  {
   "cell_type": "markdown",
   "id": "7b89fd1a",
   "metadata": {},
   "source": [
    "- Paso 1: creamos una lista vacia. "
   ]
  },
  {
   "cell_type": "markdown",
   "id": "62ee4958",
   "metadata": {},
   "source": [
    "- Paso 1: definimos la **funcion** (calcular_valor_inventario) sin **parametros**"
   ]
  },
  {
   "cell_type": "markdown",
   "id": "2326d9a0",
   "metadata": {},
   "source": [
    "- Paso 3: usamos el **bucle for** para que itere por cada (producto) del (inventario)"
   ]
  },
  {
   "cell_type": "markdown",
   "id": "495e9ddf",
   "metadata": {},
   "source": [
    "- Paso 4: establecemos una nueva variable (valor_total) que sea la multiplicacion de los valores de las claves (precio, cantidad) "
   ]
  },
  {
   "cell_type": "markdown",
   "id": "917c1387",
   "metadata": {},
   "source": [
    "- Paso 5: usamos el metodo **.append()** para añadir el resultado del (valor_total) a la lista."
   ]
  },
  {
   "cell_type": "markdown",
   "id": "f46fe13a",
   "metadata": {},
   "source": [
    "- Paso 6: establecemos una **nueva variable** (valor_global) que sea la suma de los elementos de los elementos de la lista."
   ]
  },
  {
   "cell_type": "markdown",
   "id": "66ee08cb",
   "metadata": {},
   "source": [
    "- Paso 7: imprimimos el valor_global del inventario"
   ]
  },
  {
   "cell_type": "markdown",
   "id": "8b829a98",
   "metadata": {},
   "source": [
    "- Paso 8: llamamos a la funcion y la ejecutamos"
   ]
  },
  {
   "cell_type": "markdown",
   "id": "d7c61359",
   "metadata": {},
   "source": [
    "**Ejercicio 7.** `realizar_compra()`: Permite a un cliente realizar una compra \n",
    "seleccionando productos del inventario. Debe interactuar con el cliente para \n",
    "seleccionar productos y calcular el costo total de la compra. \n",
    "     - Utiliza un bucle `while` para permitir al cliente realizar múltiples \n",
    "compras. \n",
    "     - Muestra el inventario y solicita al cliente ingresar el nombre del \n",
    "producto que desea comprar. \n",
    "     - Registra los productos seleccionados en un carrito y actualiza el \n",
    "inventario.\n",
    "    - Calcula el costo total de la compra."
   ]
  },
  {
   "cell_type": "markdown",
   "id": "e33b02d0",
   "metadata": {},
   "source": [
    "`clientes` (diccionario): Una estructura para llevar un registro de los \n",
    "clientes de la tienda. Cada cliente debe ser representado como un \n",
    "diccionario con las siguientes claves: `'nombre'` y `'email'`. Al inicio \n",
    "deberá ser un diccionario vacío. Además, cada cliente debe tener un \n",
    "historial de compras. Deberá parecerse a: \n",
    "      ```python \n",
    "      {'Cliente1': {'email': 'cliente1@email.com', 'compras': []}, \n",
    "      'Cliente2': {'email': 'cliente2@email.com', 'compras': []}} \n",
    "      ``` \n"
   ]
  },
  {
   "cell_type": "markdown",
   "id": "21124655",
   "metadata": {},
   "source": [
    "`ventas_totales` (float): Una variable para llevar un registro de las \n",
    "ventas totales de la tienda. Inicializalo con valor 0. "
   ]
  },
  {
   "cell_type": "markdown",
   "id": "2e68da39",
   "metadata": {},
   "source": [
    "---"
   ]
  },
  {
   "cell_type": "code",
   "execution_count": null,
   "id": "af38274d",
   "metadata": {},
   "outputs": [],
   "source": [
    "clientes = {}\n",
    "ventas_totales = 0.0\n"
   ]
  },
  {
   "cell_type": "code",
   "execution_count": null,
   "id": "676fd3f5",
   "metadata": {},
   "outputs": [],
   "source": [
    "\n",
    "def realizar_compra(cliente_nombre):\n",
    "     \n",
    "    carrito = []  \n",
    "    costo_total = 0  \n",
    "\n",
    "    if cliente_nombre not in clientes:\n",
    "        print(\"Cliente no registrado.\")        \n",
    "        def registrar_cliente(nombre, email):                                 \n",
    "            clientes[nombre] = {'email': email, 'compras': []}            \n",
    "            print(f\"Cliente {nombre} registrado con éxito.\")        \n",
    "        email = input(\"Introduce el email del cliente: \")\n",
    "        registrar_cliente(cliente_nombre, email)\n",
    "\n",
    "    for cliente_nombre in clientes:                                          \n",
    "        print(\"Cliente ya registrado.\")                                 \n",
    "        \n",
    "        while True:\n",
    "            print(\"\\nInventario actual:\")\n",
    "            ver_inventario()  \n",
    "            producto_nombre = input(\"Indique el nombre del producto que desea comprar o finalizar compra\").strip()\n",
    "            for producto in inventario:\n",
    "                if producto['nombre'].lower() == producto_nombre.lower():\n",
    "                    cantidad = int(input(f\"Indique la cantidad de {producto_nombre} que desea comprar\"))\n",
    "                    if cantidad <= producto['cantidad']:\n",
    "                        producto['cantidad'] -= cantidad\n",
    "                        costo_total += producto['precio'] * cantidad\n",
    "                        carrito.append({'nombre': producto['nombre'], 'precio': producto['precio'], 'cantidad': cantidad})\n",
    "                        print(f\"{cantidad} unidad(es) de {producto['nombre']} añadida(s) al carrito.\")\n",
    "                    else:\n",
    "                        print(\"Cantidad no disponible.\")\n",
    "                    break\n",
    "            else:\n",
    "                print(\"Producto no encontrado en el inventario.\")\n",
    "                break\n",
    "        if producto_nombre.lower() == 'finalizar compra':\n",
    "            print(\"\\nResumen de la compra:\")        \n",
    "            for item in carrito:\n",
    "                print(f\"Producto: {item['nombre']}, Precio: {item['precio']}€, Cantidad: {item['cantidad']}\")\n",
    "            print(f\"Costo total: {costo_total}€\")\n",
    "\n",
    "            clientes[cliente_nombre]['compras'].append({'carrito': carrito, 'total': costo_total})\n",
    "            ventas_totales += costo_total  \n",
    "            print(f\"Compra realizada con éxito. Total a pagar: {costo_total}€\")\n",
    "            break\n",
    "        else:\n",
    "            print(\"No se realizó ninguna compra.\")  \n",
    "            break"
   ]
  },
  {
   "cell_type": "code",
   "execution_count": 187,
   "id": "63e47436",
   "metadata": {},
   "outputs": [
    {
     "name": "stdout",
     "output_type": "stream",
     "text": [
      "Cliente ya registrado.\n",
      "\n",
      "Inventario actual:\n",
      "Nombre: manzana, Precio: 4€, Cantidad: 5\n",
      "Nombre: fresa, Precio: 3€, Cantidad: 28\n",
      "1 unidad(es) de fresa añadida(s) al carrito.\n",
      "\n",
      "Inventario actual:\n",
      "Nombre: manzana, Precio: 4€, Cantidad: 5\n",
      "Nombre: fresa, Precio: 3€, Cantidad: 27\n",
      "Producto no encontrado en el inventario.\n",
      "\n",
      "Resumen de la compra:\n",
      "Producto: fresa, Precio: 3€, Cantidad: 1\n",
      "Costo total: 3€\n",
      "Compra realizada con éxito. Total a pagar: 3€\n"
     ]
    }
   ],
   "source": [
    "realizar_compra('Juan Pérez')  # Ejemplo de uso de la función de compra"
   ]
  },
  {
   "cell_type": "markdown",
   "id": "332ec1b5",
   "metadata": {},
   "source": [
    "---"
   ]
  }
 ],
 "metadata": {
  "kernelspec": {
   "display_name": "base",
   "language": "python",
   "name": "python3"
  },
  "language_info": {
   "codemirror_mode": {
    "name": "ipython",
    "version": 3
   },
   "file_extension": ".py",
   "mimetype": "text/x-python",
   "name": "python",
   "nbconvert_exporter": "python",
   "pygments_lexer": "ipython3",
   "version": "3.12.4"
  }
 },
 "nbformat": 4,
 "nbformat_minor": 5
}
